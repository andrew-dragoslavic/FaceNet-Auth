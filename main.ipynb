{
 "cells": [
  {
   "cell_type": "code",
   "execution_count": 28,
   "id": "dc2962f5",
   "metadata": {},
   "outputs": [],
   "source": [
    "# import facenet_pytorch as face\n",
    "from facenet_pytorch import MTCNN\n",
    "from torchvision.transforms.functional import to_pil_image\n",
    "import torch\n",
    "import cv2\n",
    "import numpy as np\n",
    "from PIL import Image\n",
    "import os"
   ]
  },
  {
   "cell_type": "code",
   "execution_count": 29,
   "id": "5e3063ff",
   "metadata": {},
   "outputs": [],
   "source": [
    "from dotenv import load_dotenv\n",
    "load_dotenv()\n",
    "\n",
    "register_path = os.getenv(\"register_path\")\n",
    "# path = \"/mnt/c/Users/andre/OneDrive/Pictures/Facial_Recognition/\"\n",
    "mtcnn = MTCNN(image_size=160, margin=10)\n",
    "\n",
    "for item in os.listdir(register_path):\n",
    "    file = os.path.join(register_path, item)\n",
    "    img = Image.open(file)\n",
    "    aligned_face = mtcnn(img)\n",
    "    aligned_pil = to_pil_image(aligned_face)\n",
    "    aligned_pil.save(f\"aligned_faces/{item}\")\n",
    "\n"
   ]
  },
  {
   "cell_type": "code",
   "execution_count": 30,
   "id": "6b32f21b",
   "metadata": {},
   "outputs": [],
   "source": [
    "from facenet_pytorch import InceptionResnetV1\n",
    "from torchvision import transforms\n",
    "import json\n",
    "\n",
    "model = InceptionResnetV1(pretrained=\"vggface2\").eval()\n",
    "\n",
    "transform = transforms.Compose([\n",
    "    transforms.ToTensor()\n",
    "])"
   ]
  },
  {
   "cell_type": "code",
   "execution_count": 31,
   "id": "4f62c1a5",
   "metadata": {},
   "outputs": [],
   "source": [
    "save_path = os.getenv(\"save_path\")\n",
    "embeddings = []\n",
    "\n",
    "for item in os.listdir(save_path):\n",
    "    file = os.path.join(save_path, item)\n",
    "    img = Image.open(file)\n",
    "    img_tensor = transform(img)\n",
    "    img_tensor = img_tensor.unsqueeze(0)\n",
    "    with torch.no_grad():\n",
    "        embedding = model(img_tensor)\n",
    "    embedding_np = embedding.squeeze(0).numpy()\n",
    "    embedding_list = embedding_np.tolist()\n",
    "    embeddings.append(embedding_list)\n",
    "\n",
    "data = {\"andrew\": embeddings}\n",
    "with open(\"embeddings.json\", \"w\") as f:\n",
    "    json.dump(data, f)\n"
   ]
  },
  {
   "cell_type": "code",
   "execution_count": 32,
   "id": "ce8c34c4",
   "metadata": {},
   "outputs": [],
   "source": [
    "sigin_image = os.getenv(\"signin_image\")\n",
    "img = Image.open(sigin_image)\n",
    "aligned_face = mtcnn(img)\n",
    "aligned_face = aligned_face.unsqueeze(0)\n",
    "with torch.no_grad():\n",
    "    new_embedding = model(aligned_face)\n",
    "new_embedding_np = new_embedding.squeeze(0).numpy()\n",
    "\n",
    "with open(\"embeddings.json\", \"r\") as f:\n",
    "    data = json.load(f)\n",
    "\n",
    "stored_embeddings = data[\"andrew\"]\n",
    "\n",
    "distances = [\n",
    "    np.linalg.norm(new_embedding_np - np.array(emb))\n",
    "    for emb in stored_embeddings\n",
    "]\n",
    "min_distance = min(distances)"
   ]
  },
  {
   "cell_type": "code",
   "execution_count": 33,
   "id": "614b78b3",
   "metadata": {},
   "outputs": [
    {
     "name": "stdout",
     "output_type": "stream",
     "text": [
      "✅ Sign-in successful. Matched with 'andrew' at distance 0.4633.\n"
     ]
    }
   ],
   "source": [
    "threshold = 0.5\n",
    "\n",
    "if min_distance < threshold:\n",
    "    print(f\"✅ Sign-in successful. Matched with 'andrew' at distance {min_distance:.4f}.\")\n",
    "else:\n",
    "    print(f\"❌ Sign-in failed. Closest distance {min_distance:.4f} exceeds threshold.\")"
   ]
  }
 ],
 "metadata": {
  "kernelspec": {
   "display_name": ".venv",
   "language": "python",
   "name": "python3"
  },
  "language_info": {
   "codemirror_mode": {
    "name": "ipython",
    "version": 3
   },
   "file_extension": ".py",
   "mimetype": "text/x-python",
   "name": "python",
   "nbconvert_exporter": "python",
   "pygments_lexer": "ipython3",
   "version": "3.10.17"
  }
 },
 "nbformat": 4,
 "nbformat_minor": 5
}
